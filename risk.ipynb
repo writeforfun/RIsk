{
 "cells": [
  {
   "cell_type": "code",
   "execution_count": 1,
   "metadata": {},
   "outputs": [],
   "source": [
    "import pandas as pd\n",
    "from matplotlib import pyplot as plt\n",
    "import seaborn as sns\n",
    "\n",
    "from sklearn.preprocessing import MinMaxScaler\n",
    "from sklearn.metrics import mean_absolute_error\n",
    "from sklearn.model_selection import train_test_split\n",
    "\n",
    "from sklearn.metrics import f1_score\n",
    "from sklearn.metrics import confusion_matrix\n",
    "\n",
    "from sklearn.linear_model import LogisticRegression\n",
    "\n",
    "\n",
    "import warnings\n",
    "from sklearn.exceptions import DataConversionWarning, ConvergenceWarning\n",
    "warnings.filterwarnings(action='ignore', category=DataConversionWarning)\n",
    "warnings.filterwarnings(action='ignore', category=ConvergenceWarning)"
   ]
  },
  {
   "cell_type": "code",
   "execution_count": 2,
   "metadata": {},
   "outputs": [],
   "source": [
    "loans = pd.read_csv('train.csv')"
   ]
  },
  {
   "cell_type": "code",
   "execution_count": 3,
   "metadata": {},
   "outputs": [],
   "source": [
    "loans = loans.drop('id', 1)\n",
    "loans = loans.dropna()"
   ]
  },
  {
   "cell_type": "markdown",
   "metadata": {},
   "source": [
    "#### 6 hypotheses by intuition\n",
    "- Higher loan amount with higher charged off rate\n",
    "- Higher interest rate with higher charged off rate\n",
    "- Lower credit score with higher charged off rate\n",
    "- Longer term  with higher charged off rate\n",
    "- Shorter employment year with higher charged off rate\n",
    "- Lower grade with higher charged off rate"
   ]
  },
  {
   "cell_type": "code",
   "execution_count": 4,
   "metadata": {},
   "outputs": [
    {
     "data": {
      "text/html": [
       "<div>\n",
       "<style scoped>\n",
       "    .dataframe tbody tr th:only-of-type {\n",
       "        vertical-align: middle;\n",
       "    }\n",
       "\n",
       "    .dataframe tbody tr th {\n",
       "        vertical-align: top;\n",
       "    }\n",
       "\n",
       "    .dataframe thead th {\n",
       "        text-align: right;\n",
       "    }\n",
       "</style>\n",
       "<table border=\"1\" class=\"dataframe\">\n",
       "  <thead>\n",
       "    <tr style=\"text-align: right;\">\n",
       "      <th></th>\n",
       "      <th>loan_amnt</th>\n",
       "      <th>interest_rate</th>\n",
       "      <th>credit_score</th>\n",
       "    </tr>\n",
       "  </thead>\n",
       "  <tbody>\n",
       "    <tr>\n",
       "      <th>count</th>\n",
       "      <td>242150.000000</td>\n",
       "      <td>242150.000000</td>\n",
       "      <td>242150.000000</td>\n",
       "    </tr>\n",
       "    <tr>\n",
       "      <th>mean</th>\n",
       "      <td>1520.389009</td>\n",
       "      <td>13.801496</td>\n",
       "      <td>683.575024</td>\n",
       "    </tr>\n",
       "    <tr>\n",
       "      <th>std</th>\n",
       "      <td>830.250197</td>\n",
       "      <td>4.588924</td>\n",
       "      <td>29.554795</td>\n",
       "    </tr>\n",
       "    <tr>\n",
       "      <th>min</th>\n",
       "      <td>323.797279</td>\n",
       "      <td>5.704849</td>\n",
       "      <td>655.424269</td>\n",
       "    </tr>\n",
       "    <tr>\n",
       "      <th>25%</th>\n",
       "      <td>761.954545</td>\n",
       "      <td>10.876086</td>\n",
       "      <td>659.531106</td>\n",
       "    </tr>\n",
       "    <tr>\n",
       "      <th>50%</th>\n",
       "      <td>1212.680586</td>\n",
       "      <td>13.543833</td>\n",
       "      <td>678.672563</td>\n",
       "    </tr>\n",
       "    <tr>\n",
       "      <th>75%</th>\n",
       "      <td>2152.213330</td>\n",
       "      <td>17.172395</td>\n",
       "      <td>698.591960</td>\n",
       "    </tr>\n",
       "    <tr>\n",
       "      <th>max</th>\n",
       "      <td>3851.867974</td>\n",
       "      <td>27.980604</td>\n",
       "      <td>808.551641</td>\n",
       "    </tr>\n",
       "  </tbody>\n",
       "</table>\n",
       "</div>"
      ],
      "text/plain": [
       "           loan_amnt  interest_rate   credit_score\n",
       "count  242150.000000  242150.000000  242150.000000\n",
       "mean     1520.389009      13.801496     683.575024\n",
       "std       830.250197       4.588924      29.554795\n",
       "min       323.797279       5.704849     655.424269\n",
       "25%       761.954545      10.876086     659.531106\n",
       "50%      1212.680586      13.543833     678.672563\n",
       "75%      2152.213330      17.172395     698.591960\n",
       "max      3851.867974      27.980604     808.551641"
      ]
     },
     "execution_count": 4,
     "metadata": {},
     "output_type": "execute_result"
    }
   ],
   "source": [
    "loans.describe()"
   ]
  },
  {
   "cell_type": "markdown",
   "metadata": {},
   "source": [
    "#### 1.Higher loan amount with higher charged off rate"
   ]
  },
  {
   "cell_type": "code",
   "execution_count": 5,
   "metadata": {},
   "outputs": [
    {
     "data": {
      "image/png": "[encoded data removed]",
      "text/plain": [
       "<Figure size 432x288 with 1 Axes>"
      ]
     },
     "metadata": {
      "needs_background": "light"
     },
     "output_type": "display_data"
    }
   ],
   "source": [
    "bins = [500, 1000, 1500, 2000, 2500, 3000, 3500, 4000]\n",
    "plt.hist(loans['loan_amnt'], bins=bins, edgecolor='black', color='deepskyblue')\n",
    "plt.title('Loan Amount')\n",
    "plt.xlabel('Loan')\n",
    "plt.ylabel('Count')\n",
    "\n",
    "plt.tight_layout()\n",
    "\n",
    "plt.show()"
   ]
  },
  {
   "cell_type": "code",
   "execution_count": 6,
   "metadata": {},
   "outputs": [
    {
     "data": {
      "image/png": "[encoded data removed]",
      "text/plain": [
       "<Figure size 432x288 with 1 Axes>"
      ]
     },
     "metadata": {
      "needs_background": "light"
     },
     "output_type": "display_data"
    }
   ],
   "source": [
    "sns.boxplot(x='loan_status',y='loan_amnt',data=loans)\n",
    "\n",
    "plt.title('Loan Status vs Loan Amount')\n",
    "plt.xlabel('Loan Status')\n",
    "plt.ylabel('Loan Amount')\n",
    "plt.show()"
   ]
  },
  {
   "cell_type": "markdown",
   "metadata": {},
   "source": [
    "##### There is no big difference between FullyPaid and ChargeOff\n",
    "##### -> Useless"
   ]
  },
  {
   "cell_type": "markdown",
   "metadata": {},
   "source": [
    "#### 2.Higher interest rate with higher charged off rate\n"
   ]
  },
  {
   "cell_type": "code",
   "execution_count": 7,
   "metadata": {},
   "outputs": [
    {
     "data": {
      "image/png": "[encoded data removed]",
      "text/plain": [
       "<Figure size 432x288 with 1 Axes>"
      ]
     },
     "metadata": {
      "needs_background": "light"
     },
     "output_type": "display_data"
    }
   ],
   "source": [
    "sns.boxplot(x='loan_status',y='interest_rate',data=loans)\n",
    "\n",
    "plt.title('Loan Status vs Interest Rate')\n",
    "plt.xlabel('Loan Status')\n",
    "plt.ylabel('Interest Rate')\n",
    "plt.show()"
   ]
  },
  {
   "cell_type": "markdown",
   "metadata": {},
   "source": [
    "##### Median values between FullyPaid and ChargeOff are different\n",
    "##### -> Useful"
   ]
  },
  {
   "cell_type": "markdown",
   "metadata": {},
   "source": [
    "#### 3.Lower credit score with higher charged off rate"
   ]
  },
  {
   "cell_type": "code",
   "execution_count": 8,
   "metadata": {},
   "outputs": [
    {
     "data": {
      "image/png": "[encoded data removed]",
      "text/plain": [
       "<Figure size 432x288 with 1 Axes>"
      ]
     },
     "metadata": {
      "needs_background": "light"
     },
     "output_type": "display_data"
    }
   ],
   "source": [
    "sns.boxplot(x='loan_status',y='credit_score',data=loans)\n",
    "\n",
    "plt.title('Loan Status vs Credit Score')\n",
    "plt.xlabel('Loan Status')\n",
    "plt.ylabel('Credit Score')\n",
    "plt.show()"
   ]
  },
  {
   "cell_type": "markdown",
   "metadata": {},
   "source": [
    "##### Median values between FullyPaid and ChargeOff are different\n",
    "##### -> Useful"
   ]
  },
  {
   "cell_type": "markdown",
   "metadata": {},
   "source": [
    "#### 4.Longer term  with higher charged off rate"
   ]
  },
  {
   "cell_type": "code",
   "execution_count": 9,
   "metadata": {},
   "outputs": [
    {
     "data": {
      "text/html": [
       "<div>\n",
       "<style scoped>\n",
       "    .dataframe tbody tr th:only-of-type {\n",
       "        vertical-align: middle;\n",
       "    }\n",
       "\n",
       "    .dataframe tbody tr th {\n",
       "        vertical-align: top;\n",
       "    }\n",
       "\n",
       "    .dataframe thead th {\n",
       "        text-align: right;\n",
       "    }\n",
       "</style>\n",
       "<table border=\"1\" class=\"dataframe\">\n",
       "  <thead>\n",
       "    <tr style=\"text-align: right;\">\n",
       "      <th>loan_status</th>\n",
       "      <th>ChargedOff</th>\n",
       "      <th>FullyPaid</th>\n",
       "      <th>All</th>\n",
       "      <th>c_rate</th>\n",
       "      <th>f_rate</th>\n",
       "    </tr>\n",
       "    <tr>\n",
       "      <th>term</th>\n",
       "      <th></th>\n",
       "      <th></th>\n",
       "      <th></th>\n",
       "      <th></th>\n",
       "      <th></th>\n",
       "    </tr>\n",
       "  </thead>\n",
       "  <tbody>\n",
       "    <tr>\n",
       "      <th>3 years</th>\n",
       "      <td>26894</td>\n",
       "      <td>162993</td>\n",
       "      <td>189887</td>\n",
       "      <td>0.141632</td>\n",
       "      <td>0.858368</td>\n",
       "    </tr>\n",
       "    <tr>\n",
       "      <th>5 years</th>\n",
       "      <td>15462</td>\n",
       "      <td>36801</td>\n",
       "      <td>52263</td>\n",
       "      <td>0.295850</td>\n",
       "      <td>0.704150</td>\n",
       "    </tr>\n",
       "  </tbody>\n",
       "</table>\n",
       "</div>"
      ],
      "text/plain": [
       "loan_status  ChargedOff  FullyPaid     All    c_rate    f_rate\n",
       "term                                                          \n",
       "3 years           26894     162993  189887  0.141632  0.858368\n",
       "5 years           15462      36801   52263  0.295850  0.704150"
      ]
     },
     "execution_count": 9,
     "metadata": {},
     "output_type": "execute_result"
    }
   ],
   "source": [
    "cross_term = pd.crosstab(loans['term'],loans['loan_status'], margins = True)\n",
    "c_rate = cross_term['ChargedOff'] / cross_term['All']\n",
    "f_rate = cross_term['FullyPaid'] / cross_term['All']\n",
    "cross_term['c_rate'] = c_rate\n",
    "cross_term['f_rate'] = f_rate\n",
    "cross_term = cross_term.drop(index = ['All'])\n",
    "cross_term"
   ]
  },
  {
   "cell_type": "code",
   "execution_count": 10,
   "metadata": {},
   "outputs": [
    {
     "data": {
      "image/png": "[encoded data removed]",
      "text/plain": [
       "<Figure size 432x288 with 1 Axes>"
      ]
     },
     "metadata": {
      "needs_background": "light"
     },
     "output_type": "display_data"
    }
   ],
   "source": [
    "df_bar = cross_term[['c_rate', 'f_rate']]\n",
    "df_bar.plot.bar(stacked=True)\n",
    "plt.title('Term vs ChargeOff/FullyPaid rate')\n",
    "plt.xlabel('term')\n",
    "plt.xticks(rotation=0)\n",
    "plt.ylabel('rate')\n",
    "plt.show()"
   ]
  },
  {
   "cell_type": "markdown",
   "metadata": {},
   "source": [
    "##### 5 years has higher charged off rate\n",
    "##### -> useful"
   ]
  },
  {
   "cell_type": "markdown",
   "metadata": {},
   "source": [
    "#### Shorter employment year with higher charged off rate"
   ]
  },
  {
   "cell_type": "code",
   "execution_count": 11,
   "metadata": {},
   "outputs": [
    {
     "data": {
      "text/html": [
       "<div>\n",
       "<style scoped>\n",
       "    .dataframe tbody tr th:only-of-type {\n",
       "        vertical-align: middle;\n",
       "    }\n",
       "\n",
       "    .dataframe tbody tr th {\n",
       "        vertical-align: top;\n",
       "    }\n",
       "\n",
       "    .dataframe thead th {\n",
       "        text-align: right;\n",
       "    }\n",
       "</style>\n",
       "<table border=\"1\" class=\"dataframe\">\n",
       "  <thead>\n",
       "    <tr style=\"text-align: right;\">\n",
       "      <th>loan_status</th>\n",
       "      <th>ChargedOff</th>\n",
       "      <th>FullyPaid</th>\n",
       "      <th>All</th>\n",
       "      <th>c_rate</th>\n",
       "      <th>f_rate</th>\n",
       "    </tr>\n",
       "    <tr>\n",
       "      <th>employment_length</th>\n",
       "      <th></th>\n",
       "      <th></th>\n",
       "      <th></th>\n",
       "      <th></th>\n",
       "      <th></th>\n",
       "    </tr>\n",
       "  </thead>\n",
       "  <tbody>\n",
       "    <tr>\n",
       "      <th>0 years</th>\n",
       "      <td>3995</td>\n",
       "      <td>15378</td>\n",
       "      <td>19373</td>\n",
       "      <td>0.206215</td>\n",
       "      <td>0.793785</td>\n",
       "    </tr>\n",
       "    <tr>\n",
       "      <th>1 year</th>\n",
       "      <td>2380</td>\n",
       "      <td>12761</td>\n",
       "      <td>15141</td>\n",
       "      <td>0.157189</td>\n",
       "      <td>0.842811</td>\n",
       "    </tr>\n",
       "    <tr>\n",
       "      <th>10 years</th>\n",
       "      <td>19060</td>\n",
       "      <td>84279</td>\n",
       "      <td>103339</td>\n",
       "      <td>0.184441</td>\n",
       "      <td>0.815559</td>\n",
       "    </tr>\n",
       "    <tr>\n",
       "      <th>2 years</th>\n",
       "      <td>3063</td>\n",
       "      <td>12720</td>\n",
       "      <td>15783</td>\n",
       "      <td>0.194070</td>\n",
       "      <td>0.805930</td>\n",
       "    </tr>\n",
       "    <tr>\n",
       "      <th>3 years</th>\n",
       "      <td>1938</td>\n",
       "      <td>9357</td>\n",
       "      <td>11295</td>\n",
       "      <td>0.171580</td>\n",
       "      <td>0.828420</td>\n",
       "    </tr>\n",
       "    <tr>\n",
       "      <th>4 years</th>\n",
       "      <td>1498</td>\n",
       "      <td>11920</td>\n",
       "      <td>13418</td>\n",
       "      <td>0.111641</td>\n",
       "      <td>0.888359</td>\n",
       "    </tr>\n",
       "    <tr>\n",
       "      <th>5 years</th>\n",
       "      <td>2047</td>\n",
       "      <td>10765</td>\n",
       "      <td>12812</td>\n",
       "      <td>0.159772</td>\n",
       "      <td>0.840228</td>\n",
       "    </tr>\n",
       "    <tr>\n",
       "      <th>6 years</th>\n",
       "      <td>2235</td>\n",
       "      <td>12580</td>\n",
       "      <td>14815</td>\n",
       "      <td>0.150861</td>\n",
       "      <td>0.849139</td>\n",
       "    </tr>\n",
       "    <tr>\n",
       "      <th>7 years</th>\n",
       "      <td>1778</td>\n",
       "      <td>10895</td>\n",
       "      <td>12673</td>\n",
       "      <td>0.140298</td>\n",
       "      <td>0.859702</td>\n",
       "    </tr>\n",
       "    <tr>\n",
       "      <th>8 years</th>\n",
       "      <td>944</td>\n",
       "      <td>4183</td>\n",
       "      <td>5127</td>\n",
       "      <td>0.184123</td>\n",
       "      <td>0.815877</td>\n",
       "    </tr>\n",
       "    <tr>\n",
       "      <th>9 years</th>\n",
       "      <td>3418</td>\n",
       "      <td>14956</td>\n",
       "      <td>18374</td>\n",
       "      <td>0.186024</td>\n",
       "      <td>0.813976</td>\n",
       "    </tr>\n",
       "  </tbody>\n",
       "</table>\n",
       "</div>"
      ],
      "text/plain": [
       "loan_status        ChargedOff  FullyPaid     All    c_rate    f_rate\n",
       "employment_length                                                   \n",
       "0 years                  3995      15378   19373  0.206215  0.793785\n",
       "1 year                   2380      12761   15141  0.157189  0.842811\n",
       "10 years                19060      84279  103339  0.184441  0.815559\n",
       "2 years                  3063      12720   15783  0.194070  0.805930\n",
       "3 years                  1938       9357   11295  0.171580  0.828420\n",
       "4 years                  1498      11920   13418  0.111641  0.888359\n",
       "5 years                  2047      10765   12812  0.159772  0.840228\n",
       "6 years                  2235      12580   14815  0.150861  0.849139\n",
       "7 years                  1778      10895   12673  0.140298  0.859702\n",
       "8 years                   944       4183    5127  0.184123  0.815877\n",
       "9 years                  3418      14956   18374  0.186024  0.813976"
      ]
     },
     "execution_count": 11,
     "metadata": {},
     "output_type": "execute_result"
    }
   ],
   "source": [
    "cross_el = pd.crosstab(loans['employment_length'], loans['loan_status'], margins = True)\n",
    "c_rate = cross_el['ChargedOff'] / cross_el['All']\n",
    "f_rate = cross_el['FullyPaid'] / cross_el['All']\n",
    "cross_el['c_rate'] = c_rate\n",
    "cross_el['f_rate'] = f_rate\n",
    "cross_el = cross_el.drop(index=['All'])\n",
    "cross_el"
   ]
  },
  {
   "cell_type": "code",
   "execution_count": 12,
   "metadata": {},
   "outputs": [
    {
     "data": {
      "image/png": "[encoded data removed]",
      "text/plain": [
       "<Figure size 432x288 with 1 Axes>"
      ]
     },
     "metadata": {
      "needs_background": "light"
     },
     "output_type": "display_data"
    }
   ],
   "source": [
    "df_bar = cross_el[['c_rate', 'f_rate']]\n",
    "df_bar.plot.bar(stacked=True)\n",
    "plt.title('Employment Year vs ChargeOff/FullyPaid rate')\n",
    "plt.xlabel('Employment Year')\n",
    "plt.ylabel('rate')\n",
    "plt.show()"
   ]
  },
  {
   "cell_type": "markdown",
   "metadata": {},
   "source": [
    "##### There is no big difference \n",
    "##### -> Useless"
   ]
  },
  {
   "cell_type": "code",
   "execution_count": 13,
   "metadata": {},
   "outputs": [
    {
     "data": {
      "text/html": [
       "<div>\n",
       "<style scoped>\n",
       "    .dataframe tbody tr th:only-of-type {\n",
       "        vertical-align: middle;\n",
       "    }\n",
       "\n",
       "    .dataframe tbody tr th {\n",
       "        vertical-align: top;\n",
       "    }\n",
       "\n",
       "    .dataframe thead th {\n",
       "        text-align: right;\n",
       "    }\n",
       "</style>\n",
       "<table border=\"1\" class=\"dataframe\">\n",
       "  <thead>\n",
       "    <tr style=\"text-align: right;\">\n",
       "      <th>loan_status</th>\n",
       "      <th>ChargedOff</th>\n",
       "      <th>FullyPaid</th>\n",
       "      <th>All</th>\n",
       "      <th>c_rate</th>\n",
       "      <th>f_rate</th>\n",
       "    </tr>\n",
       "    <tr>\n",
       "      <th>grade</th>\n",
       "      <th></th>\n",
       "      <th></th>\n",
       "      <th></th>\n",
       "      <th></th>\n",
       "      <th></th>\n",
       "    </tr>\n",
       "  </thead>\n",
       "  <tbody>\n",
       "    <tr>\n",
       "      <th>A1</th>\n",
       "      <td>140</td>\n",
       "      <td>5624</td>\n",
       "      <td>5764</td>\n",
       "      <td>0.024289</td>\n",
       "      <td>0.975711</td>\n",
       "    </tr>\n",
       "    <tr>\n",
       "      <th>A2</th>\n",
       "      <td>319</td>\n",
       "      <td>5430</td>\n",
       "      <td>5749</td>\n",
       "      <td>0.055488</td>\n",
       "      <td>0.944512</td>\n",
       "    </tr>\n",
       "    <tr>\n",
       "      <th>A3</th>\n",
       "      <td>1711</td>\n",
       "      <td>4821</td>\n",
       "      <td>6532</td>\n",
       "      <td>0.261941</td>\n",
       "      <td>0.738059</td>\n",
       "    </tr>\n",
       "    <tr>\n",
       "      <th>A4</th>\n",
       "      <td>520</td>\n",
       "      <td>8921</td>\n",
       "      <td>9441</td>\n",
       "      <td>0.055079</td>\n",
       "      <td>0.944921</td>\n",
       "    </tr>\n",
       "    <tr>\n",
       "      <th>A5</th>\n",
       "      <td>398</td>\n",
       "      <td>10387</td>\n",
       "      <td>10785</td>\n",
       "      <td>0.036903</td>\n",
       "      <td>0.963097</td>\n",
       "    </tr>\n",
       "    <tr>\n",
       "      <th>B1</th>\n",
       "      <td>1737</td>\n",
       "      <td>13747</td>\n",
       "      <td>15484</td>\n",
       "      <td>0.112180</td>\n",
       "      <td>0.887820</td>\n",
       "    </tr>\n",
       "    <tr>\n",
       "      <th>B2</th>\n",
       "      <td>2688</td>\n",
       "      <td>13669</td>\n",
       "      <td>16357</td>\n",
       "      <td>0.164333</td>\n",
       "      <td>0.835667</td>\n",
       "    </tr>\n",
       "    <tr>\n",
       "      <th>B3</th>\n",
       "      <td>1589</td>\n",
       "      <td>14469</td>\n",
       "      <td>16058</td>\n",
       "      <td>0.098954</td>\n",
       "      <td>0.901046</td>\n",
       "    </tr>\n",
       "    <tr>\n",
       "      <th>B4</th>\n",
       "      <td>2255</td>\n",
       "      <td>16154</td>\n",
       "      <td>18409</td>\n",
       "      <td>0.122494</td>\n",
       "      <td>0.877506</td>\n",
       "    </tr>\n",
       "    <tr>\n",
       "      <th>B5</th>\n",
       "      <td>2950</td>\n",
       "      <td>12213</td>\n",
       "      <td>15163</td>\n",
       "      <td>0.194553</td>\n",
       "      <td>0.805447</td>\n",
       "    </tr>\n",
       "    <tr>\n",
       "      <th>C1</th>\n",
       "      <td>2593</td>\n",
       "      <td>14174</td>\n",
       "      <td>16767</td>\n",
       "      <td>0.154649</td>\n",
       "      <td>0.845351</td>\n",
       "    </tr>\n",
       "    <tr>\n",
       "      <th>C2</th>\n",
       "      <td>2274</td>\n",
       "      <td>11643</td>\n",
       "      <td>13917</td>\n",
       "      <td>0.163397</td>\n",
       "      <td>0.836603</td>\n",
       "    </tr>\n",
       "    <tr>\n",
       "      <th>C3</th>\n",
       "      <td>2064</td>\n",
       "      <td>8202</td>\n",
       "      <td>10266</td>\n",
       "      <td>0.201052</td>\n",
       "      <td>0.798948</td>\n",
       "    </tr>\n",
       "    <tr>\n",
       "      <th>C4</th>\n",
       "      <td>4488</td>\n",
       "      <td>14448</td>\n",
       "      <td>18936</td>\n",
       "      <td>0.237009</td>\n",
       "      <td>0.762991</td>\n",
       "    </tr>\n",
       "    <tr>\n",
       "      <th>C5</th>\n",
       "      <td>3124</td>\n",
       "      <td>8296</td>\n",
       "      <td>11420</td>\n",
       "      <td>0.273555</td>\n",
       "      <td>0.726445</td>\n",
       "    </tr>\n",
       "    <tr>\n",
       "      <th>D1</th>\n",
       "      <td>2135</td>\n",
       "      <td>8329</td>\n",
       "      <td>10464</td>\n",
       "      <td>0.204033</td>\n",
       "      <td>0.795967</td>\n",
       "    </tr>\n",
       "    <tr>\n",
       "      <th>D2</th>\n",
       "      <td>2149</td>\n",
       "      <td>6674</td>\n",
       "      <td>8823</td>\n",
       "      <td>0.243568</td>\n",
       "      <td>0.756432</td>\n",
       "    </tr>\n",
       "    <tr>\n",
       "      <th>D3</th>\n",
       "      <td>2201</td>\n",
       "      <td>6186</td>\n",
       "      <td>8387</td>\n",
       "      <td>0.262430</td>\n",
       "      <td>0.737570</td>\n",
       "    </tr>\n",
       "    <tr>\n",
       "      <th>D4</th>\n",
       "      <td>2607</td>\n",
       "      <td>7221</td>\n",
       "      <td>9828</td>\n",
       "      <td>0.265263</td>\n",
       "      <td>0.734737</td>\n",
       "    </tr>\n",
       "    <tr>\n",
       "      <th>D5</th>\n",
       "      <td>2293</td>\n",
       "      <td>4573</td>\n",
       "      <td>6866</td>\n",
       "      <td>0.333964</td>\n",
       "      <td>0.666036</td>\n",
       "    </tr>\n",
       "    <tr>\n",
       "      <th>E1</th>\n",
       "      <td>145</td>\n",
       "      <td>495</td>\n",
       "      <td>640</td>\n",
       "      <td>0.226562</td>\n",
       "      <td>0.773438</td>\n",
       "    </tr>\n",
       "    <tr>\n",
       "      <th>E2</th>\n",
       "      <td>945</td>\n",
       "      <td>1890</td>\n",
       "      <td>2835</td>\n",
       "      <td>0.333333</td>\n",
       "      <td>0.666667</td>\n",
       "    </tr>\n",
       "    <tr>\n",
       "      <th>E3</th>\n",
       "      <td>58</td>\n",
       "      <td>358</td>\n",
       "      <td>416</td>\n",
       "      <td>0.139423</td>\n",
       "      <td>0.860577</td>\n",
       "    </tr>\n",
       "    <tr>\n",
       "      <th>E4</th>\n",
       "      <td>679</td>\n",
       "      <td>1622</td>\n",
       "      <td>2301</td>\n",
       "      <td>0.295089</td>\n",
       "      <td>0.704911</td>\n",
       "    </tr>\n",
       "    <tr>\n",
       "      <th>E5</th>\n",
       "      <td>288</td>\n",
       "      <td>247</td>\n",
       "      <td>535</td>\n",
       "      <td>0.538318</td>\n",
       "      <td>0.461682</td>\n",
       "    </tr>\n",
       "    <tr>\n",
       "      <th>F3</th>\n",
       "      <td>2</td>\n",
       "      <td>1</td>\n",
       "      <td>3</td>\n",
       "      <td>0.666667</td>\n",
       "      <td>0.333333</td>\n",
       "    </tr>\n",
       "    <tr>\n",
       "      <th>F5</th>\n",
       "      <td>4</td>\n",
       "      <td>0</td>\n",
       "      <td>4</td>\n",
       "      <td>1.000000</td>\n",
       "      <td>0.000000</td>\n",
       "    </tr>\n",
       "  </tbody>\n",
       "</table>\n",
       "</div>"
      ],
      "text/plain": [
       "loan_status  ChargedOff  FullyPaid    All    c_rate    f_rate\n",
       "grade                                                        \n",
       "A1                  140       5624   5764  0.024289  0.975711\n",
       "A2                  319       5430   5749  0.055488  0.944512\n",
       "A3                 1711       4821   6532  0.261941  0.738059\n",
       "A4                  520       8921   9441  0.055079  0.944921\n",
       "A5                  398      10387  10785  0.036903  0.963097\n",
       "B1                 1737      13747  15484  0.112180  0.887820\n",
       "B2                 2688      13669  16357  0.164333  0.835667\n",
       "B3                 1589      14469  16058  0.098954  0.901046\n",
       "B4                 2255      16154  18409  0.122494  0.877506\n",
       "B5                 2950      12213  15163  0.194553  0.805447\n",
       "C1                 2593      14174  16767  0.154649  0.845351\n",
       "C2                 2274      11643  13917  0.163397  0.836603\n",
       "C3                 2064       8202  10266  0.201052  0.798948\n",
       "C4                 4488      14448  18936  0.237009  0.762991\n",
       "C5                 3124       8296  11420  0.273555  0.726445\n",
       "D1                 2135       8329  10464  0.204033  0.795967\n",
       "D2                 2149       6674   8823  0.243568  0.756432\n",
       "D3                 2201       6186   8387  0.262430  0.737570\n",
       "D4                 2607       7221   9828  0.265263  0.734737\n",
       "D5                 2293       4573   6866  0.333964  0.666036\n",
       "E1                  145        495    640  0.226562  0.773438\n",
       "E2                  945       1890   2835  0.333333  0.666667\n",
       "E3                   58        358    416  0.139423  0.860577\n",
       "E4                  679       1622   2301  0.295089  0.704911\n",
       "E5                  288        247    535  0.538318  0.461682\n",
       "F3                    2          1      3  0.666667  0.333333\n",
       "F5                    4          0      4  1.000000  0.000000"
      ]
     },
     "execution_count": 13,
     "metadata": {},
     "output_type": "execute_result"
    }
   ],
   "source": [
    "cross_grade= pd.crosstab(loans['grade'], loans['loan_status'], margins = True)\n",
    "c_rate = cross_grade['ChargedOff'] / cross_grade['All']\n",
    "f_rate = cross_grade['FullyPaid'] / cross_grade['All']\n",
    "cross_grade['c_rate'] = c_rate\n",
    "cross_grade['f_rate'] = f_rate\n",
    "cross_grade = cross_grade.drop(index = ['All'])\n",
    "cross_grade"
   ]
  },
  {
   "cell_type": "code",
   "execution_count": 14,
   "metadata": {},
   "outputs": [
    {
     "data": {
      "image/png": "[encoded data removed]",
      "text/plain": [
       "<Figure size 432x288 with 1 Axes>"
      ]
     },
     "metadata": {
      "needs_background": "light"
     },
     "output_type": "display_data"
    }
   ],
   "source": [
    "df_bar = cross_grade[['c_rate', 'f_rate']]\n",
    "df_bar.plot.bar(stacked=True)\n",
    "plt.title('grade vs ChargeOff/FullyPaid rate')\n",
    "plt.xlabel('grade')\n",
    "plt.ylabel('rate')\n",
    "plt.show()"
   ]
  },
  {
   "cell_type": "markdown",
   "metadata": {},
   "source": [
    "##### It seems that lower grade with higher charged off rate\n",
    "##### -> useful"
   ]
  },
  {
   "cell_type": "markdown",
   "metadata": {},
   "source": [
    "#### Check purpose with charged off rate"
   ]
  },
  {
   "cell_type": "code",
   "execution_count": 15,
   "metadata": {},
   "outputs": [
    {
     "data": {
      "text/html": [
       "<div>\n",
       "<style scoped>\n",
       "    .dataframe tbody tr th:only-of-type {\n",
       "        vertical-align: middle;\n",
       "    }\n",
       "\n",
       "    .dataframe tbody tr th {\n",
       "        vertical-align: top;\n",
       "    }\n",
       "\n",
       "    .dataframe thead th {\n",
       "        text-align: right;\n",
       "    }\n",
       "</style>\n",
       "<table border=\"1\" class=\"dataframe\">\n",
       "  <thead>\n",
       "    <tr style=\"text-align: right;\">\n",
       "      <th>loan_status</th>\n",
       "      <th>ChargedOff</th>\n",
       "      <th>FullyPaid</th>\n",
       "      <th>All</th>\n",
       "      <th>c_rate</th>\n",
       "      <th>f_rate</th>\n",
       "    </tr>\n",
       "    <tr>\n",
       "      <th>purpose</th>\n",
       "      <th></th>\n",
       "      <th></th>\n",
       "      <th></th>\n",
       "      <th></th>\n",
       "      <th></th>\n",
       "    </tr>\n",
       "  </thead>\n",
       "  <tbody>\n",
       "    <tr>\n",
       "      <th>car</th>\n",
       "      <td>486</td>\n",
       "      <td>3369</td>\n",
       "      <td>3855</td>\n",
       "      <td>0.126070</td>\n",
       "      <td>0.873930</td>\n",
       "    </tr>\n",
       "    <tr>\n",
       "      <th>credit_card</th>\n",
       "      <td>6905</td>\n",
       "      <td>41995</td>\n",
       "      <td>48900</td>\n",
       "      <td>0.141207</td>\n",
       "      <td>0.858793</td>\n",
       "    </tr>\n",
       "    <tr>\n",
       "      <th>debt_consolidation</th>\n",
       "      <td>29923</td>\n",
       "      <td>130284</td>\n",
       "      <td>160207</td>\n",
       "      <td>0.186777</td>\n",
       "      <td>0.813223</td>\n",
       "    </tr>\n",
       "    <tr>\n",
       "      <th>home_improvement</th>\n",
       "      <td>972</td>\n",
       "      <td>6714</td>\n",
       "      <td>7686</td>\n",
       "      <td>0.126464</td>\n",
       "      <td>0.873536</td>\n",
       "    </tr>\n",
       "    <tr>\n",
       "      <th>house</th>\n",
       "      <td>0</td>\n",
       "      <td>4</td>\n",
       "      <td>4</td>\n",
       "      <td>0.000000</td>\n",
       "      <td>1.000000</td>\n",
       "    </tr>\n",
       "    <tr>\n",
       "      <th>major_purchase</th>\n",
       "      <td>127</td>\n",
       "      <td>135</td>\n",
       "      <td>262</td>\n",
       "      <td>0.484733</td>\n",
       "      <td>0.515267</td>\n",
       "    </tr>\n",
       "    <tr>\n",
       "      <th>medical</th>\n",
       "      <td>857</td>\n",
       "      <td>2297</td>\n",
       "      <td>3154</td>\n",
       "      <td>0.271718</td>\n",
       "      <td>0.728282</td>\n",
       "    </tr>\n",
       "    <tr>\n",
       "      <th>other</th>\n",
       "      <td>3000</td>\n",
       "      <td>14633</td>\n",
       "      <td>17633</td>\n",
       "      <td>0.170136</td>\n",
       "      <td>0.829864</td>\n",
       "    </tr>\n",
       "    <tr>\n",
       "      <th>small_business</th>\n",
       "      <td>86</td>\n",
       "      <td>363</td>\n",
       "      <td>449</td>\n",
       "      <td>0.191537</td>\n",
       "      <td>0.808463</td>\n",
       "    </tr>\n",
       "  </tbody>\n",
       "</table>\n",
       "</div>"
      ],
      "text/plain": [
       "loan_status         ChargedOff  FullyPaid     All    c_rate    f_rate\n",
       "purpose                                                              \n",
       "car                        486       3369    3855  0.126070  0.873930\n",
       "credit_card               6905      41995   48900  0.141207  0.858793\n",
       "debt_consolidation       29923     130284  160207  0.186777  0.813223\n",
       "home_improvement           972       6714    7686  0.126464  0.873536\n",
       "house                        0          4       4  0.000000  1.000000\n",
       "major_purchase             127        135     262  0.484733  0.515267\n",
       "medical                    857       2297    3154  0.271718  0.728282\n",
       "other                     3000      14633   17633  0.170136  0.829864\n",
       "small_business              86        363     449  0.191537  0.808463"
      ]
     },
     "execution_count": 15,
     "metadata": {},
     "output_type": "execute_result"
    }
   ],
   "source": [
    "cross_purpose= pd.crosstab(loans['purpose'], loans['loan_status'], margins = True)\n",
    "c_rate = cross_purpose['ChargedOff'] / cross_purpose['All']\n",
    "f_rate = cross_purpose['FullyPaid'] / cross_purpose['All']\n",
    "cross_purpose['c_rate'] = c_rate\n",
    "cross_purpose['f_rate'] = f_rate\n",
    "cross_purpose = cross_purpose.drop(index = ['All'])\n",
    "cross_purpose"
   ]
  },
  {
   "cell_type": "code",
   "execution_count": 16,
   "metadata": {},
   "outputs": [
    {
     "data": {
      "image/png": "[encoded data removed]",
      "text/plain": [
       "<Figure size 432x288 with 1 Axes>"
      ]
     },
     "metadata": {
      "needs_background": "light"
     },
     "output_type": "display_data"
    }
   ],
   "source": [
    "df_bar = cross_purpose[['c_rate', 'f_rate']]\n",
    "df_bar.plot.bar(stacked=True)\n",
    "plt.title('Purpose vs ChargeOff/FullyPaid rate')\n",
    "plt.xlabel('Purpose')\n",
    "plt.ylabel('rate')\n",
    "plt.show()"
   ]
  },
  {
   "cell_type": "markdown",
   "metadata": {},
   "source": [
    "##### We can see the difference between each purpose\n",
    "##### ->useful"
   ]
  },
  {
   "cell_type": "markdown",
   "metadata": {},
   "source": [
    "#### Check application type with charged off rate"
   ]
  },
  {
   "cell_type": "code",
   "execution_count": 17,
   "metadata": {},
   "outputs": [
    {
     "data": {
      "text/html": [
       "<div>\n",
       "<style scoped>\n",
       "    .dataframe tbody tr th:only-of-type {\n",
       "        vertical-align: middle;\n",
       "    }\n",
       "\n",
       "    .dataframe tbody tr th {\n",
       "        vertical-align: top;\n",
       "    }\n",
       "\n",
       "    .dataframe thead th {\n",
       "        text-align: right;\n",
       "    }\n",
       "</style>\n",
       "<table border=\"1\" class=\"dataframe\">\n",
       "  <thead>\n",
       "    <tr style=\"text-align: right;\">\n",
       "      <th>loan_status</th>\n",
       "      <th>ChargedOff</th>\n",
       "      <th>FullyPaid</th>\n",
       "      <th>All</th>\n",
       "      <th>c_rate</th>\n",
       "      <th>f_rate</th>\n",
       "    </tr>\n",
       "    <tr>\n",
       "      <th>application_type</th>\n",
       "      <th></th>\n",
       "      <th></th>\n",
       "      <th></th>\n",
       "      <th></th>\n",
       "      <th></th>\n",
       "    </tr>\n",
       "  </thead>\n",
       "  <tbody>\n",
       "    <tr>\n",
       "      <th>Individual</th>\n",
       "      <td>42084</td>\n",
       "      <td>198284</td>\n",
       "      <td>240368</td>\n",
       "      <td>0.175082</td>\n",
       "      <td>0.824918</td>\n",
       "    </tr>\n",
       "    <tr>\n",
       "      <th>Joint App</th>\n",
       "      <td>272</td>\n",
       "      <td>1510</td>\n",
       "      <td>1782</td>\n",
       "      <td>0.152637</td>\n",
       "      <td>0.847363</td>\n",
       "    </tr>\n",
       "  </tbody>\n",
       "</table>\n",
       "</div>"
      ],
      "text/plain": [
       "loan_status       ChargedOff  FullyPaid     All    c_rate    f_rate\n",
       "application_type                                                   \n",
       "Individual             42084     198284  240368  0.175082  0.824918\n",
       "Joint App                272       1510    1782  0.152637  0.847363"
      ]
     },
     "execution_count": 17,
     "metadata": {},
     "output_type": "execute_result"
    }
   ],
   "source": [
    "cross_at= pd.crosstab(loans['application_type'], loans['loan_status'], margins = True)\n",
    "c_rate = cross_at['ChargedOff'] / cross_at['All']\n",
    "f_rate = cross_at['FullyPaid'] / cross_at['All']\n",
    "cross_at['c_rate'] = c_rate\n",
    "cross_at['f_rate'] = f_rate\n",
    "cross_at = cross_at.drop(index = ['All'])\n",
    "cross_at"
   ]
  },
  {
   "cell_type": "code",
   "execution_count": 18,
   "metadata": {},
   "outputs": [
    {
     "data": {
      "image/png": "[encoded data removed]",
      "text/plain": [
       "<Figure size 432x288 with 1 Axes>"
      ]
     },
     "metadata": {
      "needs_background": "light"
     },
     "output_type": "display_data"
    }
   ],
   "source": [
    "df_bar = cross_at[['c_rate', 'f_rate']]\n",
    "df_bar.plot.bar(stacked=True)\n",
    "plt.title('Application Type vs ChargeOff/FullyPaid rate')\n",
    "plt.xlabel('Application Type')\n",
    "plt.ylabel('rate')\n",
    "plt.show()"
   ]
  },
  {
   "cell_type": "markdown",
   "metadata": {},
   "source": [
    "##### We can see the little difference between each purpose\n",
    "##### ->useless"
   ]
  },
  {
   "cell_type": "code",
   "execution_count": 19,
   "metadata": {},
   "outputs": [],
   "source": [
    "X = loans[['term', 'interest_rate', 'grade', 'purpose', 'credit_score']]"
   ]
  },
  {
   "cell_type": "code",
   "execution_count": 20,
   "metadata": {},
   "outputs": [
    {
     "data": {
      "text/html": [
       "<div>\n",
       "<style scoped>\n",
       "    .dataframe tbody tr th:only-of-type {\n",
       "        vertical-align: middle;\n",
       "    }\n",
       "\n",
       "    .dataframe tbody tr th {\n",
       "        vertical-align: top;\n",
       "    }\n",
       "\n",
       "    .dataframe thead th {\n",
       "        text-align: right;\n",
       "    }\n",
       "</style>\n",
       "<table border=\"1\" class=\"dataframe\">\n",
       "  <thead>\n",
       "    <tr style=\"text-align: right;\">\n",
       "      <th></th>\n",
       "      <th>term</th>\n",
       "      <th>interest_rate</th>\n",
       "      <th>grade</th>\n",
       "      <th>purpose</th>\n",
       "      <th>credit_score</th>\n",
       "    </tr>\n",
       "  </thead>\n",
       "  <tbody>\n",
       "    <tr>\n",
       "      <th>0</th>\n",
       "      <td>3 years</td>\n",
       "      <td>8.421982</td>\n",
       "      <td>A5</td>\n",
       "      <td>debt_consolidation</td>\n",
       "      <td>714.061803</td>\n",
       "    </tr>\n",
       "    <tr>\n",
       "      <th>1</th>\n",
       "      <td>5 years</td>\n",
       "      <td>10.286776</td>\n",
       "      <td>B1</td>\n",
       "      <td>credit_card</td>\n",
       "      <td>697.706701</td>\n",
       "    </tr>\n",
       "    <tr>\n",
       "      <th>2</th>\n",
       "      <td>3 years</td>\n",
       "      <td>14.723425</td>\n",
       "      <td>C2</td>\n",
       "      <td>debt_consolidation</td>\n",
       "      <td>656.419357</td>\n",
       "    </tr>\n",
       "    <tr>\n",
       "      <th>3</th>\n",
       "      <td>3 years</td>\n",
       "      <td>14.260708</td>\n",
       "      <td>C1</td>\n",
       "      <td>credit_card</td>\n",
       "      <td>657.906852</td>\n",
       "    </tr>\n",
       "    <tr>\n",
       "      <th>4</th>\n",
       "      <td>5 years</td>\n",
       "      <td>25.217452</td>\n",
       "      <td>E5</td>\n",
       "      <td>debt_consolidation</td>\n",
       "      <td>662.972297</td>\n",
       "    </tr>\n",
       "  </tbody>\n",
       "</table>\n",
       "</div>"
      ],
      "text/plain": [
       "      term  interest_rate grade             purpose  credit_score\n",
       "0  3 years       8.421982    A5  debt_consolidation    714.061803\n",
       "1  5 years      10.286776    B1         credit_card    697.706701\n",
       "2  3 years      14.723425    C2  debt_consolidation    656.419357\n",
       "3  3 years      14.260708    C1         credit_card    657.906852\n",
       "4  5 years      25.217452    E5  debt_consolidation    662.972297"
      ]
     },
     "execution_count": 20,
     "metadata": {},
     "output_type": "execute_result"
    }
   ],
   "source": [
    "X.head(5)"
   ]
  },
  {
   "cell_type": "code",
   "execution_count": 21,
   "metadata": {},
   "outputs": [
    {
     "data": {
      "text/plain": [
       "FullyPaid     199794\n",
       "ChargedOff     42356\n",
       "Name: loan_status, dtype: int64"
      ]
     },
     "execution_count": 21,
     "metadata": {},
     "output_type": "execute_result"
    }
   ],
   "source": [
    "target = loans['loan_status']\n",
    "target.value_counts()"
   ]
  },
  {
   "cell_type": "code",
   "execution_count": 22,
   "metadata": {},
   "outputs": [
    {
     "data": {
      "text/plain": [
       "0     FullyPaid\n",
       "1    ChargedOff\n",
       "2     FullyPaid\n",
       "3     FullyPaid\n",
       "4     FullyPaid\n",
       "Name: loan_status, dtype: object"
      ]
     },
     "execution_count": 22,
     "metadata": {},
     "output_type": "execute_result"
    }
   ],
   "source": [
    "target.head(5)"
   ]
  },
  {
   "cell_type": "code",
   "execution_count": 23,
   "metadata": {},
   "outputs": [],
   "source": [
    "X_dum = pd.get_dummies(X)\n",
    "target_dum = pd.get_dummies(target)"
   ]
  },
  {
   "cell_type": "code",
   "execution_count": 24,
   "metadata": {},
   "outputs": [
    {
     "data": {
      "text/html": [
       "<div>\n",
       "<style scoped>\n",
       "    .dataframe tbody tr th:only-of-type {\n",
       "        vertical-align: middle;\n",
       "    }\n",
       "\n",
       "    .dataframe tbody tr th {\n",
       "        vertical-align: top;\n",
       "    }\n",
       "\n",
       "    .dataframe thead th {\n",
       "        text-align: right;\n",
       "    }\n",
       "</style>\n",
       "<table border=\"1\" class=\"dataframe\">\n",
       "  <thead>\n",
       "    <tr style=\"text-align: right;\">\n",
       "      <th></th>\n",
       "      <th>ChargedOff</th>\n",
       "      <th>FullyPaid</th>\n",
       "    </tr>\n",
       "  </thead>\n",
       "  <tbody>\n",
       "    <tr>\n",
       "      <th>0</th>\n",
       "      <td>0</td>\n",
       "      <td>1</td>\n",
       "    </tr>\n",
       "    <tr>\n",
       "      <th>1</th>\n",
       "      <td>1</td>\n",
       "      <td>0</td>\n",
       "    </tr>\n",
       "    <tr>\n",
       "      <th>2</th>\n",
       "      <td>0</td>\n",
       "      <td>1</td>\n",
       "    </tr>\n",
       "    <tr>\n",
       "      <th>3</th>\n",
       "      <td>0</td>\n",
       "      <td>1</td>\n",
       "    </tr>\n",
       "    <tr>\n",
       "      <th>4</th>\n",
       "      <td>0</td>\n",
       "      <td>1</td>\n",
       "    </tr>\n",
       "    <tr>\n",
       "      <th>...</th>\n",
       "      <td>...</td>\n",
       "      <td>...</td>\n",
       "    </tr>\n",
       "    <tr>\n",
       "      <th>242145</th>\n",
       "      <td>0</td>\n",
       "      <td>1</td>\n",
       "    </tr>\n",
       "    <tr>\n",
       "      <th>242146</th>\n",
       "      <td>1</td>\n",
       "      <td>0</td>\n",
       "    </tr>\n",
       "    <tr>\n",
       "      <th>242147</th>\n",
       "      <td>0</td>\n",
       "      <td>1</td>\n",
       "    </tr>\n",
       "    <tr>\n",
       "      <th>242148</th>\n",
       "      <td>0</td>\n",
       "      <td>1</td>\n",
       "    </tr>\n",
       "    <tr>\n",
       "      <th>242149</th>\n",
       "      <td>0</td>\n",
       "      <td>1</td>\n",
       "    </tr>\n",
       "  </tbody>\n",
       "</table>\n",
       "<p>242150 rows × 2 columns</p>\n",
       "</div>"
      ],
      "text/plain": [
       "        ChargedOff  FullyPaid\n",
       "0                0          1\n",
       "1                1          0\n",
       "2                0          1\n",
       "3                0          1\n",
       "4                0          1\n",
       "...            ...        ...\n",
       "242145           0          1\n",
       "242146           1          0\n",
       "242147           0          1\n",
       "242148           0          1\n",
       "242149           0          1\n",
       "\n",
       "[242150 rows x 2 columns]"
      ]
     },
     "execution_count": 24,
     "metadata": {},
     "output_type": "execute_result"
    }
   ],
   "source": [
    "target_dum"
   ]
  },
  {
   "cell_type": "code",
   "execution_count": 25,
   "metadata": {},
   "outputs": [],
   "source": [
    "target_dum = target_dum.drop(columns = ['FullyPaid'])"
   ]
  },
  {
   "cell_type": "code",
   "execution_count": 26,
   "metadata": {},
   "outputs": [
    {
     "data": {
      "text/html": [
       "<div>\n",
       "<style scoped>\n",
       "    .dataframe tbody tr th:only-of-type {\n",
       "        vertical-align: middle;\n",
       "    }\n",
       "\n",
       "    .dataframe tbody tr th {\n",
       "        vertical-align: top;\n",
       "    }\n",
       "\n",
       "    .dataframe thead th {\n",
       "        text-align: right;\n",
       "    }\n",
       "</style>\n",
       "<table border=\"1\" class=\"dataframe\">\n",
       "  <thead>\n",
       "    <tr style=\"text-align: right;\">\n",
       "      <th></th>\n",
       "      <th>ChargedOff</th>\n",
       "    </tr>\n",
       "  </thead>\n",
       "  <tbody>\n",
       "    <tr>\n",
       "      <th>0</th>\n",
       "      <td>0</td>\n",
       "    </tr>\n",
       "    <tr>\n",
       "      <th>1</th>\n",
       "      <td>1</td>\n",
       "    </tr>\n",
       "    <tr>\n",
       "      <th>2</th>\n",
       "      <td>0</td>\n",
       "    </tr>\n",
       "    <tr>\n",
       "      <th>3</th>\n",
       "      <td>0</td>\n",
       "    </tr>\n",
       "    <tr>\n",
       "      <th>4</th>\n",
       "      <td>0</td>\n",
       "    </tr>\n",
       "    <tr>\n",
       "      <th>...</th>\n",
       "      <td>...</td>\n",
       "    </tr>\n",
       "    <tr>\n",
       "      <th>242145</th>\n",
       "      <td>0</td>\n",
       "    </tr>\n",
       "    <tr>\n",
       "      <th>242146</th>\n",
       "      <td>1</td>\n",
       "    </tr>\n",
       "    <tr>\n",
       "      <th>242147</th>\n",
       "      <td>0</td>\n",
       "    </tr>\n",
       "    <tr>\n",
       "      <th>242148</th>\n",
       "      <td>0</td>\n",
       "    </tr>\n",
       "    <tr>\n",
       "      <th>242149</th>\n",
       "      <td>0</td>\n",
       "    </tr>\n",
       "  </tbody>\n",
       "</table>\n",
       "<p>242150 rows × 1 columns</p>\n",
       "</div>"
      ],
      "text/plain": [
       "        ChargedOff\n",
       "0                0\n",
       "1                1\n",
       "2                0\n",
       "3                0\n",
       "4                0\n",
       "...            ...\n",
       "242145           0\n",
       "242146           1\n",
       "242147           0\n",
       "242148           0\n",
       "242149           0\n",
       "\n",
       "[242150 rows x 1 columns]"
      ]
     },
     "execution_count": 26,
     "metadata": {},
     "output_type": "execute_result"
    }
   ],
   "source": [
    "target_dum"
   ]
  },
  {
   "cell_type": "code",
   "execution_count": 27,
   "metadata": {},
   "outputs": [],
   "source": [
    "#　stratify:因為Charged of 0/1差太多，等比例分配結果到train, val\n",
    "X_train,X_val,y_train,y_val = train_test_split(X_dum, target_dum, random_state =0, stratify=target_dum['ChargedOff'])"
   ]
  },
  {
   "cell_type": "code",
   "execution_count": 28,
   "metadata": {},
   "outputs": [
    {
     "name": "stdout",
     "output_type": "stream",
     "text": [
      "(181612, 40)\n",
      "(60538, 40)\n"
     ]
    }
   ],
   "source": [
    "print(X_train.shape)\n",
    "print(X_val.shape)"
   ]
  },
  {
   "cell_type": "markdown",
   "metadata": {},
   "source": [
    "#### Logistic"
   ]
  },
  {
   "cell_type": "code",
   "execution_count": 29,
   "metadata": {},
   "outputs": [
    {
     "name": "stdout",
     "output_type": "stream",
     "text": [
      "[0 0 0 ... 0 0 0]\n"
     ]
    }
   ],
   "source": [
    "lr = LogisticRegression()\n",
    "lr.fit(X_train, y_train)\n",
    "pred = lr.predict(X_val)\n",
    "print(pred)"
   ]
  },
  {
   "cell_type": "markdown",
   "metadata": {},
   "source": [
    "## f1超低＝＝"
   ]
  },
  {
   "cell_type": "code",
   "execution_count": 30,
   "metadata": {},
   "outputs": [
    {
     "data": {
      "text/plain": [
       "0.13911307097096262"
      ]
     },
     "execution_count": 30,
     "metadata": {},
     "output_type": "execute_result"
    }
   ],
   "source": [
    "f_one = f1_score(y_val, pred)\n",
    "f_one"
   ]
  },
  {
   "cell_type": "markdown",
   "metadata": {},
   "source": [
    "## Confusion matrix"
   ]
  },
  {
   "cell_type": "code",
   "execution_count": 31,
   "metadata": {},
   "outputs": [
    {
     "data": {
      "text/plain": [
       "array([[49355,   594],\n",
       "       [ 9753,   836]])"
      ]
     },
     "execution_count": 31,
     "metadata": {},
     "output_type": "execute_result"
    }
   ],
   "source": [
    "cm = confusion_matrix(y_val, pred)\n",
    "cm"
   ]
  },
  {
   "cell_type": "markdown",
   "metadata": {},
   "source": [
    "## Adjust thershold"
   ]
  },
  {
   "cell_type": "code",
   "execution_count": 32,
   "metadata": {},
   "outputs": [
    {
     "data": {
      "text/html": [
       "<div>\n",
       "<style scoped>\n",
       "    .dataframe tbody tr th:only-of-type {\n",
       "        vertical-align: middle;\n",
       "    }\n",
       "\n",
       "    .dataframe tbody tr th {\n",
       "        vertical-align: top;\n",
       "    }\n",
       "\n",
       "    .dataframe thead th {\n",
       "        text-align: right;\n",
       "    }\n",
       "</style>\n",
       "<table border=\"1\" class=\"dataframe\">\n",
       "  <thead>\n",
       "    <tr style=\"text-align: right;\">\n",
       "      <th></th>\n",
       "      <th>0</th>\n",
       "      <th>1</th>\n",
       "    </tr>\n",
       "  </thead>\n",
       "  <tbody>\n",
       "    <tr>\n",
       "      <th>0</th>\n",
       "      <td>0.905370</td>\n",
       "      <td>0.094630</td>\n",
       "    </tr>\n",
       "    <tr>\n",
       "      <th>1</th>\n",
       "      <td>0.835281</td>\n",
       "      <td>0.164719</td>\n",
       "    </tr>\n",
       "    <tr>\n",
       "      <th>2</th>\n",
       "      <td>0.956044</td>\n",
       "      <td>0.043956</td>\n",
       "    </tr>\n",
       "    <tr>\n",
       "      <th>3</th>\n",
       "      <td>0.824139</td>\n",
       "      <td>0.175861</td>\n",
       "    </tr>\n",
       "    <tr>\n",
       "      <th>4</th>\n",
       "      <td>0.968081</td>\n",
       "      <td>0.031919</td>\n",
       "    </tr>\n",
       "  </tbody>\n",
       "</table>\n",
       "</div>"
      ],
      "text/plain": [
       "          0         1\n",
       "0  0.905370  0.094630\n",
       "1  0.835281  0.164719\n",
       "2  0.956044  0.043956\n",
       "3  0.824139  0.175861\n",
       "4  0.968081  0.031919"
      ]
     },
     "execution_count": 32,
     "metadata": {},
     "output_type": "execute_result"
    }
   ],
   "source": [
    "pred_proba = lr.predict_proba(X_val)\n",
    "proba_df = pd.DataFrame(pred_proba)\n",
    "\n",
    "proba_df.head(5)"
   ]
  },
  {
   "cell_type": "code",
   "execution_count": 33,
   "metadata": {},
   "outputs": [
    {
     "name": "stdout",
     "output_type": "stream",
     "text": [
      "10589\n"
     ]
    }
   ],
   "source": [
    "chargedoff_val = y_val['ChargedOff'].sum()\n",
    "print(chargedoff_val)"
   ]
  },
  {
   "cell_type": "code",
   "execution_count": 34,
   "metadata": {},
   "outputs": [
    {
     "data": {
      "text/plain": [
       "43488    0.741101\n",
       "4336     0.738553\n",
       "39125    0.732250\n",
       "10219    0.718169\n",
       "34653    0.715913\n",
       "           ...   \n",
       "2958     0.018803\n",
       "7929     0.018776\n",
       "43327    0.018440\n",
       "46239    0.017945\n",
       "26280    0.016076\n",
       "Name: 1, Length: 60538, dtype: float64"
      ]
     },
     "execution_count": 34,
     "metadata": {},
     "output_type": "execute_result"
    }
   ],
   "source": [
    "proba_desc = proba_df[1].sort_values(ascending = False)\n",
    "proba_desc"
   ]
  },
  {
   "cell_type": "code",
   "execution_count": 35,
   "metadata": {},
   "outputs": [
    {
     "data": {
      "text/plain": [
       "0.24843704511850317"
      ]
     },
     "execution_count": 35,
     "metadata": {},
     "output_type": "execute_result"
    }
   ],
   "source": [
    "threshold = proba_desc.iloc[chargedoff_val]\n",
    "threshold"
   ]
  },
  {
   "cell_type": "code",
   "execution_count": 36,
   "metadata": {},
   "outputs": [],
   "source": [
    "def classification(x):\n",
    "    if x >= threshold:\n",
    "        return 1\n",
    "\n",
    "    else:\n",
    "        return 0"
   ]
  },
  {
   "cell_type": "code",
   "execution_count": 37,
   "metadata": {},
   "outputs": [
    {
     "data": {
      "text/html": [
       "<div>\n",
       "<style scoped>\n",
       "    .dataframe tbody tr th:only-of-type {\n",
       "        vertical-align: middle;\n",
       "    }\n",
       "\n",
       "    .dataframe tbody tr th {\n",
       "        vertical-align: top;\n",
       "    }\n",
       "\n",
       "    .dataframe thead th {\n",
       "        text-align: right;\n",
       "    }\n",
       "</style>\n",
       "<table border=\"1\" class=\"dataframe\">\n",
       "  <thead>\n",
       "    <tr style=\"text-align: right;\">\n",
       "      <th></th>\n",
       "      <th>0</th>\n",
       "      <th>1</th>\n",
       "      <th>class_new</th>\n",
       "    </tr>\n",
       "  </thead>\n",
       "  <tbody>\n",
       "    <tr>\n",
       "      <th>0</th>\n",
       "      <td>0.905370</td>\n",
       "      <td>0.094630</td>\n",
       "      <td>0</td>\n",
       "    </tr>\n",
       "    <tr>\n",
       "      <th>1</th>\n",
       "      <td>0.835281</td>\n",
       "      <td>0.164719</td>\n",
       "      <td>0</td>\n",
       "    </tr>\n",
       "    <tr>\n",
       "      <th>2</th>\n",
       "      <td>0.956044</td>\n",
       "      <td>0.043956</td>\n",
       "      <td>0</td>\n",
       "    </tr>\n",
       "    <tr>\n",
       "      <th>3</th>\n",
       "      <td>0.824139</td>\n",
       "      <td>0.175861</td>\n",
       "      <td>0</td>\n",
       "    </tr>\n",
       "    <tr>\n",
       "      <th>4</th>\n",
       "      <td>0.968081</td>\n",
       "      <td>0.031919</td>\n",
       "      <td>0</td>\n",
       "    </tr>\n",
       "  </tbody>\n",
       "</table>\n",
       "</div>"
      ],
      "text/plain": [
       "          0         1  class_new\n",
       "0  0.905370  0.094630          0\n",
       "1  0.835281  0.164719          0\n",
       "2  0.956044  0.043956          0\n",
       "3  0.824139  0.175861          0\n",
       "4  0.968081  0.031919          0"
      ]
     },
     "execution_count": 37,
     "metadata": {},
     "output_type": "execute_result"
    }
   ],
   "source": [
    "proba_df['class_new'] = proba_df[1].apply(classification)\n",
    "proba_df.head(5)"
   ]
  },
  {
   "cell_type": "code",
   "execution_count": 38,
   "metadata": {},
   "outputs": [
    {
     "data": {
      "text/plain": [
       "0.3466641484489353"
      ]
     },
     "execution_count": 38,
     "metadata": {},
     "output_type": "execute_result"
    }
   ],
   "source": [
    "f_one_2 = f1_score(y_val, proba_df['class_new'])\n",
    "f_one_2"
   ]
  },
  {
   "cell_type": "code",
   "execution_count": 39,
   "metadata": {},
   "outputs": [
    {
     "data": {
      "text/plain": [
       "array([[43030,  6919],\n",
       "       [ 6918,  3671]])"
      ]
     },
     "execution_count": 39,
     "metadata": {},
     "output_type": "execute_result"
    }
   ],
   "source": [
    "cm2 = confusion_matrix(y_val, proba_df['class_new'])\n",
    "cm2"
   ]
  },
  {
   "cell_type": "code",
   "execution_count": 40,
   "metadata": {},
   "outputs": [
    {
     "name": "stdout",
     "output_type": "stream",
     "text": [
      "(181612, 40)\n",
      "(181612, 41)\n"
     ]
    }
   ],
   "source": [
    "print(X_train.shape)\n",
    "\n",
    "train = pd.concat([X_train, y_train], axis = 1)\n",
    "print(train.shape)"
   ]
  },
  {
   "cell_type": "code",
   "execution_count": 41,
   "metadata": {},
   "outputs": [
    {
     "data": {
      "text/html": [
       "<div>\n",
       "<style scoped>\n",
       "    .dataframe tbody tr th:only-of-type {\n",
       "        vertical-align: middle;\n",
       "    }\n",
       "\n",
       "    .dataframe tbody tr th {\n",
       "        vertical-align: top;\n",
       "    }\n",
       "\n",
       "    .dataframe thead th {\n",
       "        text-align: right;\n",
       "    }\n",
       "</style>\n",
       "<table border=\"1\" class=\"dataframe\">\n",
       "  <thead>\n",
       "    <tr style=\"text-align: right;\">\n",
       "      <th></th>\n",
       "      <th>interest_rate</th>\n",
       "      <th>credit_score</th>\n",
       "      <th>term_3 years</th>\n",
       "      <th>term_5 years</th>\n",
       "      <th>grade_A1</th>\n",
       "      <th>grade_A2</th>\n",
       "      <th>grade_A3</th>\n",
       "      <th>grade_A4</th>\n",
       "      <th>grade_A5</th>\n",
       "      <th>grade_B1</th>\n",
       "      <th>...</th>\n",
       "      <th>purpose_car</th>\n",
       "      <th>purpose_credit_card</th>\n",
       "      <th>purpose_debt_consolidation</th>\n",
       "      <th>purpose_home_improvement</th>\n",
       "      <th>purpose_house</th>\n",
       "      <th>purpose_major_purchase</th>\n",
       "      <th>purpose_medical</th>\n",
       "      <th>purpose_other</th>\n",
       "      <th>purpose_small_business</th>\n",
       "      <th>ChargedOff</th>\n",
       "    </tr>\n",
       "  </thead>\n",
       "  <tbody>\n",
       "    <tr>\n",
       "      <th>146249</th>\n",
       "      <td>14.439098</td>\n",
       "      <td>679.861610</td>\n",
       "      <td>1</td>\n",
       "      <td>0</td>\n",
       "      <td>0</td>\n",
       "      <td>0</td>\n",
       "      <td>0</td>\n",
       "      <td>0</td>\n",
       "      <td>0</td>\n",
       "      <td>0</td>\n",
       "      <td>...</td>\n",
       "      <td>0</td>\n",
       "      <td>0</td>\n",
       "      <td>1</td>\n",
       "      <td>0</td>\n",
       "      <td>0</td>\n",
       "      <td>0</td>\n",
       "      <td>0</td>\n",
       "      <td>0</td>\n",
       "      <td>0</td>\n",
       "      <td>1</td>\n",
       "    </tr>\n",
       "    <tr>\n",
       "      <th>60716</th>\n",
       "      <td>14.183422</td>\n",
       "      <td>697.600646</td>\n",
       "      <td>1</td>\n",
       "      <td>0</td>\n",
       "      <td>0</td>\n",
       "      <td>0</td>\n",
       "      <td>0</td>\n",
       "      <td>0</td>\n",
       "      <td>0</td>\n",
       "      <td>0</td>\n",
       "      <td>...</td>\n",
       "      <td>0</td>\n",
       "      <td>0</td>\n",
       "      <td>1</td>\n",
       "      <td>0</td>\n",
       "      <td>0</td>\n",
       "      <td>0</td>\n",
       "      <td>0</td>\n",
       "      <td>0</td>\n",
       "      <td>0</td>\n",
       "      <td>0</td>\n",
       "    </tr>\n",
       "    <tr>\n",
       "      <th>171540</th>\n",
       "      <td>15.102605</td>\n",
       "      <td>660.202919</td>\n",
       "      <td>1</td>\n",
       "      <td>0</td>\n",
       "      <td>0</td>\n",
       "      <td>0</td>\n",
       "      <td>0</td>\n",
       "      <td>0</td>\n",
       "      <td>0</td>\n",
       "      <td>0</td>\n",
       "      <td>...</td>\n",
       "      <td>0</td>\n",
       "      <td>1</td>\n",
       "      <td>0</td>\n",
       "      <td>0</td>\n",
       "      <td>0</td>\n",
       "      <td>0</td>\n",
       "      <td>0</td>\n",
       "      <td>0</td>\n",
       "      <td>0</td>\n",
       "      <td>1</td>\n",
       "    </tr>\n",
       "    <tr>\n",
       "      <th>58898</th>\n",
       "      <td>11.046900</td>\n",
       "      <td>698.701403</td>\n",
       "      <td>1</td>\n",
       "      <td>0</td>\n",
       "      <td>0</td>\n",
       "      <td>0</td>\n",
       "      <td>0</td>\n",
       "      <td>0</td>\n",
       "      <td>0</td>\n",
       "      <td>0</td>\n",
       "      <td>...</td>\n",
       "      <td>0</td>\n",
       "      <td>0</td>\n",
       "      <td>1</td>\n",
       "      <td>0</td>\n",
       "      <td>0</td>\n",
       "      <td>0</td>\n",
       "      <td>0</td>\n",
       "      <td>0</td>\n",
       "      <td>0</td>\n",
       "      <td>0</td>\n",
       "    </tr>\n",
       "    <tr>\n",
       "      <th>103898</th>\n",
       "      <td>10.515072</td>\n",
       "      <td>662.204957</td>\n",
       "      <td>1</td>\n",
       "      <td>0</td>\n",
       "      <td>0</td>\n",
       "      <td>0</td>\n",
       "      <td>0</td>\n",
       "      <td>0</td>\n",
       "      <td>0</td>\n",
       "      <td>0</td>\n",
       "      <td>...</td>\n",
       "      <td>0</td>\n",
       "      <td>0</td>\n",
       "      <td>1</td>\n",
       "      <td>0</td>\n",
       "      <td>0</td>\n",
       "      <td>0</td>\n",
       "      <td>0</td>\n",
       "      <td>0</td>\n",
       "      <td>0</td>\n",
       "      <td>1</td>\n",
       "    </tr>\n",
       "  </tbody>\n",
       "</table>\n",
       "<p>5 rows × 41 columns</p>\n",
       "</div>"
      ],
      "text/plain": [
       "        interest_rate  credit_score  term_3 years  term_5 years  grade_A1  \\\n",
       "146249      14.439098    679.861610             1             0         0   \n",
       "60716       14.183422    697.600646             1             0         0   \n",
       "171540      15.102605    660.202919             1             0         0   \n",
       "58898       11.046900    698.701403             1             0         0   \n",
       "103898      10.515072    662.204957             1             0         0   \n",
       "\n",
       "        grade_A2  grade_A3  grade_A4  grade_A5  grade_B1  ...  purpose_car  \\\n",
       "146249         0         0         0         0         0  ...            0   \n",
       "60716          0         0         0         0         0  ...            0   \n",
       "171540         0         0         0         0         0  ...            0   \n",
       "58898          0         0         0         0         0  ...            0   \n",
       "103898         0         0         0         0         0  ...            0   \n",
       "\n",
       "        purpose_credit_card  purpose_debt_consolidation  \\\n",
       "146249                    0                           1   \n",
       "60716                     0                           1   \n",
       "171540                    1                           0   \n",
       "58898                     0                           1   \n",
       "103898                    0                           1   \n",
       "\n",
       "        purpose_home_improvement  purpose_house  purpose_major_purchase  \\\n",
       "146249                         0              0                       0   \n",
       "60716                          0              0                       0   \n",
       "171540                         0              0                       0   \n",
       "58898                          0              0                       0   \n",
       "103898                         0              0                       0   \n",
       "\n",
       "        purpose_medical  purpose_other  purpose_small_business  ChargedOff  \n",
       "146249                0              0                       0           1  \n",
       "60716                 0              0                       0           0  \n",
       "171540                0              0                       0           1  \n",
       "58898                 0              0                       0           0  \n",
       "103898                0              0                       0           1  \n",
       "\n",
       "[5 rows x 41 columns]"
      ]
     },
     "execution_count": 41,
     "metadata": {},
     "output_type": "execute_result"
    }
   ],
   "source": [
    "train.head(5)"
   ]
  },
  {
   "cell_type": "markdown",
   "metadata": {},
   "source": [
    "#### Downsampling: 平衡0/1的量"
   ]
  },
  {
   "cell_type": "code",
   "execution_count": 42,
   "metadata": {},
   "outputs": [
    {
     "name": "stdout",
     "output_type": "stream",
     "text": [
      "31767\n",
      "31767\n"
     ]
    }
   ],
   "source": [
    "fp = train[train['ChargedOff'] == 0 ]\n",
    "co = train[train['ChargedOff'] == 1 ]\n",
    "\n",
    "print(co.shape[0])\n",
    "\n",
    "fp = fp.sample(n = co.shape[0], random_state = 0)\n",
    "\n",
    "print(fp.shape[0])"
   ]
  },
  {
   "cell_type": "code",
   "execution_count": 43,
   "metadata": {},
   "outputs": [],
   "source": [
    "train = pd.concat([fp, co])\n",
    "\n",
    "X_train = train.drop('ChargedOff', 1)\n",
    "y_train = train['ChargedOff']"
   ]
  },
  {
   "cell_type": "code",
   "execution_count": 44,
   "metadata": {},
   "outputs": [
    {
     "data": {
      "text/html": [
       "<div>\n",
       "<style scoped>\n",
       "    .dataframe tbody tr th:only-of-type {\n",
       "        vertical-align: middle;\n",
       "    }\n",
       "\n",
       "    .dataframe tbody tr th {\n",
       "        vertical-align: top;\n",
       "    }\n",
       "\n",
       "    .dataframe thead th {\n",
       "        text-align: right;\n",
       "    }\n",
       "</style>\n",
       "<table border=\"1\" class=\"dataframe\">\n",
       "  <thead>\n",
       "    <tr style=\"text-align: right;\">\n",
       "      <th></th>\n",
       "      <th>interest_rate</th>\n",
       "      <th>credit_score</th>\n",
       "      <th>term_3 years</th>\n",
       "      <th>term_5 years</th>\n",
       "      <th>grade_A1</th>\n",
       "      <th>grade_A2</th>\n",
       "      <th>grade_A3</th>\n",
       "      <th>grade_A4</th>\n",
       "      <th>grade_A5</th>\n",
       "      <th>grade_B1</th>\n",
       "      <th>...</th>\n",
       "      <th>grade_F5</th>\n",
       "      <th>purpose_car</th>\n",
       "      <th>purpose_credit_card</th>\n",
       "      <th>purpose_debt_consolidation</th>\n",
       "      <th>purpose_home_improvement</th>\n",
       "      <th>purpose_house</th>\n",
       "      <th>purpose_major_purchase</th>\n",
       "      <th>purpose_medical</th>\n",
       "      <th>purpose_other</th>\n",
       "      <th>purpose_small_business</th>\n",
       "    </tr>\n",
       "  </thead>\n",
       "  <tbody>\n",
       "    <tr>\n",
       "      <th>29548</th>\n",
       "      <td>8.360948</td>\n",
       "      <td>697.496529</td>\n",
       "      <td>1</td>\n",
       "      <td>0</td>\n",
       "      <td>0</td>\n",
       "      <td>0</td>\n",
       "      <td>0</td>\n",
       "      <td>0</td>\n",
       "      <td>0</td>\n",
       "      <td>1</td>\n",
       "      <td>...</td>\n",
       "      <td>0</td>\n",
       "      <td>0</td>\n",
       "      <td>0</td>\n",
       "      <td>1</td>\n",
       "      <td>0</td>\n",
       "      <td>0</td>\n",
       "      <td>0</td>\n",
       "      <td>0</td>\n",
       "      <td>0</td>\n",
       "      <td>0</td>\n",
       "    </tr>\n",
       "    <tr>\n",
       "      <th>160490</th>\n",
       "      <td>7.796785</td>\n",
       "      <td>687.815945</td>\n",
       "      <td>1</td>\n",
       "      <td>0</td>\n",
       "      <td>0</td>\n",
       "      <td>0</td>\n",
       "      <td>0</td>\n",
       "      <td>1</td>\n",
       "      <td>0</td>\n",
       "      <td>0</td>\n",
       "      <td>...</td>\n",
       "      <td>0</td>\n",
       "      <td>0</td>\n",
       "      <td>0</td>\n",
       "      <td>1</td>\n",
       "      <td>0</td>\n",
       "      <td>0</td>\n",
       "      <td>0</td>\n",
       "      <td>0</td>\n",
       "      <td>0</td>\n",
       "      <td>0</td>\n",
       "    </tr>\n",
       "    <tr>\n",
       "      <th>184968</th>\n",
       "      <td>11.791191</td>\n",
       "      <td>698.757454</td>\n",
       "      <td>0</td>\n",
       "      <td>1</td>\n",
       "      <td>0</td>\n",
       "      <td>0</td>\n",
       "      <td>0</td>\n",
       "      <td>0</td>\n",
       "      <td>0</td>\n",
       "      <td>0</td>\n",
       "      <td>...</td>\n",
       "      <td>0</td>\n",
       "      <td>0</td>\n",
       "      <td>1</td>\n",
       "      <td>0</td>\n",
       "      <td>0</td>\n",
       "      <td>0</td>\n",
       "      <td>0</td>\n",
       "      <td>0</td>\n",
       "      <td>0</td>\n",
       "      <td>0</td>\n",
       "    </tr>\n",
       "    <tr>\n",
       "      <th>158033</th>\n",
       "      <td>7.644710</td>\n",
       "      <td>714.483195</td>\n",
       "      <td>1</td>\n",
       "      <td>0</td>\n",
       "      <td>0</td>\n",
       "      <td>0</td>\n",
       "      <td>0</td>\n",
       "      <td>1</td>\n",
       "      <td>0</td>\n",
       "      <td>0</td>\n",
       "      <td>...</td>\n",
       "      <td>0</td>\n",
       "      <td>0</td>\n",
       "      <td>0</td>\n",
       "      <td>1</td>\n",
       "      <td>0</td>\n",
       "      <td>0</td>\n",
       "      <td>0</td>\n",
       "      <td>0</td>\n",
       "      <td>0</td>\n",
       "      <td>0</td>\n",
       "    </tr>\n",
       "    <tr>\n",
       "      <th>225717</th>\n",
       "      <td>8.389246</td>\n",
       "      <td>699.556201</td>\n",
       "      <td>1</td>\n",
       "      <td>0</td>\n",
       "      <td>0</td>\n",
       "      <td>0</td>\n",
       "      <td>0</td>\n",
       "      <td>0</td>\n",
       "      <td>1</td>\n",
       "      <td>0</td>\n",
       "      <td>...</td>\n",
       "      <td>0</td>\n",
       "      <td>0</td>\n",
       "      <td>0</td>\n",
       "      <td>1</td>\n",
       "      <td>0</td>\n",
       "      <td>0</td>\n",
       "      <td>0</td>\n",
       "      <td>0</td>\n",
       "      <td>0</td>\n",
       "      <td>0</td>\n",
       "    </tr>\n",
       "    <tr>\n",
       "      <th>...</th>\n",
       "      <td>...</td>\n",
       "      <td>...</td>\n",
       "      <td>...</td>\n",
       "      <td>...</td>\n",
       "      <td>...</td>\n",
       "      <td>...</td>\n",
       "      <td>...</td>\n",
       "      <td>...</td>\n",
       "      <td>...</td>\n",
       "      <td>...</td>\n",
       "      <td>...</td>\n",
       "      <td>...</td>\n",
       "      <td>...</td>\n",
       "      <td>...</td>\n",
       "      <td>...</td>\n",
       "      <td>...</td>\n",
       "      <td>...</td>\n",
       "      <td>...</td>\n",
       "      <td>...</td>\n",
       "      <td>...</td>\n",
       "      <td>...</td>\n",
       "    </tr>\n",
       "    <tr>\n",
       "      <th>35346</th>\n",
       "      <td>12.944047</td>\n",
       "      <td>658.645269</td>\n",
       "      <td>1</td>\n",
       "      <td>0</td>\n",
       "      <td>0</td>\n",
       "      <td>0</td>\n",
       "      <td>0</td>\n",
       "      <td>0</td>\n",
       "      <td>0</td>\n",
       "      <td>0</td>\n",
       "      <td>...</td>\n",
       "      <td>0</td>\n",
       "      <td>0</td>\n",
       "      <td>0</td>\n",
       "      <td>1</td>\n",
       "      <td>0</td>\n",
       "      <td>0</td>\n",
       "      <td>0</td>\n",
       "      <td>0</td>\n",
       "      <td>0</td>\n",
       "      <td>0</td>\n",
       "    </tr>\n",
       "    <tr>\n",
       "      <th>97427</th>\n",
       "      <td>14.656945</td>\n",
       "      <td>698.978914</td>\n",
       "      <td>1</td>\n",
       "      <td>0</td>\n",
       "      <td>0</td>\n",
       "      <td>0</td>\n",
       "      <td>0</td>\n",
       "      <td>0</td>\n",
       "      <td>0</td>\n",
       "      <td>0</td>\n",
       "      <td>...</td>\n",
       "      <td>0</td>\n",
       "      <td>0</td>\n",
       "      <td>0</td>\n",
       "      <td>1</td>\n",
       "      <td>0</td>\n",
       "      <td>0</td>\n",
       "      <td>0</td>\n",
       "      <td>0</td>\n",
       "      <td>0</td>\n",
       "      <td>0</td>\n",
       "    </tr>\n",
       "    <tr>\n",
       "      <th>62513</th>\n",
       "      <td>18.704270</td>\n",
       "      <td>657.095096</td>\n",
       "      <td>1</td>\n",
       "      <td>0</td>\n",
       "      <td>0</td>\n",
       "      <td>0</td>\n",
       "      <td>0</td>\n",
       "      <td>0</td>\n",
       "      <td>0</td>\n",
       "      <td>0</td>\n",
       "      <td>...</td>\n",
       "      <td>0</td>\n",
       "      <td>0</td>\n",
       "      <td>0</td>\n",
       "      <td>1</td>\n",
       "      <td>0</td>\n",
       "      <td>0</td>\n",
       "      <td>0</td>\n",
       "      <td>0</td>\n",
       "      <td>0</td>\n",
       "      <td>0</td>\n",
       "    </tr>\n",
       "    <tr>\n",
       "      <th>221429</th>\n",
       "      <td>8.418930</td>\n",
       "      <td>700.603966</td>\n",
       "      <td>1</td>\n",
       "      <td>0</td>\n",
       "      <td>0</td>\n",
       "      <td>0</td>\n",
       "      <td>0</td>\n",
       "      <td>0</td>\n",
       "      <td>1</td>\n",
       "      <td>0</td>\n",
       "      <td>...</td>\n",
       "      <td>0</td>\n",
       "      <td>0</td>\n",
       "      <td>0</td>\n",
       "      <td>1</td>\n",
       "      <td>0</td>\n",
       "      <td>0</td>\n",
       "      <td>0</td>\n",
       "      <td>0</td>\n",
       "      <td>0</td>\n",
       "      <td>0</td>\n",
       "    </tr>\n",
       "    <tr>\n",
       "      <th>2650</th>\n",
       "      <td>11.310124</td>\n",
       "      <td>700.343805</td>\n",
       "      <td>0</td>\n",
       "      <td>1</td>\n",
       "      <td>0</td>\n",
       "      <td>0</td>\n",
       "      <td>0</td>\n",
       "      <td>0</td>\n",
       "      <td>0</td>\n",
       "      <td>0</td>\n",
       "      <td>...</td>\n",
       "      <td>0</td>\n",
       "      <td>0</td>\n",
       "      <td>1</td>\n",
       "      <td>0</td>\n",
       "      <td>0</td>\n",
       "      <td>0</td>\n",
       "      <td>0</td>\n",
       "      <td>0</td>\n",
       "      <td>0</td>\n",
       "      <td>0</td>\n",
       "    </tr>\n",
       "  </tbody>\n",
       "</table>\n",
       "<p>63534 rows × 40 columns</p>\n",
       "</div>"
      ],
      "text/plain": [
       "        interest_rate  credit_score  term_3 years  term_5 years  grade_A1  \\\n",
       "29548        8.360948    697.496529             1             0         0   \n",
       "160490       7.796785    687.815945             1             0         0   \n",
       "184968      11.791191    698.757454             0             1         0   \n",
       "158033       7.644710    714.483195             1             0         0   \n",
       "225717       8.389246    699.556201             1             0         0   \n",
       "...               ...           ...           ...           ...       ...   \n",
       "35346       12.944047    658.645269             1             0         0   \n",
       "97427       14.656945    698.978914             1             0         0   \n",
       "62513       18.704270    657.095096             1             0         0   \n",
       "221429       8.418930    700.603966             1             0         0   \n",
       "2650        11.310124    700.343805             0             1         0   \n",
       "\n",
       "        grade_A2  grade_A3  grade_A4  grade_A5  grade_B1  ...  grade_F5  \\\n",
       "29548          0         0         0         0         1  ...         0   \n",
       "160490         0         0         1         0         0  ...         0   \n",
       "184968         0         0         0         0         0  ...         0   \n",
       "158033         0         0         1         0         0  ...         0   \n",
       "225717         0         0         0         1         0  ...         0   \n",
       "...          ...       ...       ...       ...       ...  ...       ...   \n",
       "35346          0         0         0         0         0  ...         0   \n",
       "97427          0         0         0         0         0  ...         0   \n",
       "62513          0         0         0         0         0  ...         0   \n",
       "221429         0         0         0         1         0  ...         0   \n",
       "2650           0         0         0         0         0  ...         0   \n",
       "\n",
       "        purpose_car  purpose_credit_card  purpose_debt_consolidation  \\\n",
       "29548             0                    0                           1   \n",
       "160490            0                    0                           1   \n",
       "184968            0                    1                           0   \n",
       "158033            0                    0                           1   \n",
       "225717            0                    0                           1   \n",
       "...             ...                  ...                         ...   \n",
       "35346             0                    0                           1   \n",
       "97427             0                    0                           1   \n",
       "62513             0                    0                           1   \n",
       "221429            0                    0                           1   \n",
       "2650              0                    1                           0   \n",
       "\n",
       "        purpose_home_improvement  purpose_house  purpose_major_purchase  \\\n",
       "29548                          0              0                       0   \n",
       "160490                         0              0                       0   \n",
       "184968                         0              0                       0   \n",
       "158033                         0              0                       0   \n",
       "225717                         0              0                       0   \n",
       "...                          ...            ...                     ...   \n",
       "35346                          0              0                       0   \n",
       "97427                          0              0                       0   \n",
       "62513                          0              0                       0   \n",
       "221429                         0              0                       0   \n",
       "2650                           0              0                       0   \n",
       "\n",
       "        purpose_medical  purpose_other  purpose_small_business  \n",
       "29548                 0              0                       0  \n",
       "160490                0              0                       0  \n",
       "184968                0              0                       0  \n",
       "158033                0              0                       0  \n",
       "225717                0              0                       0  \n",
       "...                 ...            ...                     ...  \n",
       "35346                 0              0                       0  \n",
       "97427                 0              0                       0  \n",
       "62513                 0              0                       0  \n",
       "221429                0              0                       0  \n",
       "2650                  0              0                       0  \n",
       "\n",
       "[63534 rows x 40 columns]"
      ]
     },
     "execution_count": 44,
     "metadata": {},
     "output_type": "execute_result"
    }
   ],
   "source": [
    "X_train"
   ]
  },
  {
   "cell_type": "markdown",
   "metadata": {},
   "source": [
    "#### New model"
   ]
  },
  {
   "cell_type": "code",
   "execution_count": 45,
   "metadata": {},
   "outputs": [
    {
     "data": {
      "text/plain": [
       "array([0, 0, 0, ..., 1, 1, 1], dtype=uint8)"
      ]
     },
     "execution_count": 45,
     "metadata": {},
     "output_type": "execute_result"
    }
   ],
   "source": [
    "lr2 = LogisticRegression()\n",
    "\n",
    "lr2.fit(X_train, y_train)\n",
    "pred2 = lr2.predict(X_val)\n",
    "pred2"
   ]
  },
  {
   "cell_type": "code",
   "execution_count": 46,
   "metadata": {},
   "outputs": [
    {
     "data": {
      "text/plain": [
       "0.37946575794217874"
      ]
     },
     "execution_count": 46,
     "metadata": {},
     "output_type": "execute_result"
    }
   ],
   "source": [
    "f_one_3 = f1_score(y_val, pred2)\n",
    "f_one_3"
   ]
  },
  {
   "cell_type": "code",
   "execution_count": 47,
   "metadata": {},
   "outputs": [
    {
     "data": {
      "text/plain": [
       "array([[31054, 18895],\n",
       "       [ 3685,  6904]])"
      ]
     },
     "execution_count": 47,
     "metadata": {},
     "output_type": "execute_result"
    }
   ],
   "source": [
    "cm3 = confusion_matrix(y_val, pred2)\n",
    "cm3"
   ]
  },
  {
   "cell_type": "code",
   "execution_count": 48,
   "metadata": {},
   "outputs": [
    {
     "name": "stdout",
     "output_type": "stream",
     "text": [
      "Accuracy of logistic regression classifier on val set: 0.63\n"
     ]
    }
   ],
   "source": [
    "print('Accuracy of logistic regression classifier on val set: {:.2f}'.format(lr2.score(X_val, y_val)))"
   ]
  },
  {
   "cell_type": "markdown",
   "metadata": {},
   "source": [
    "#### Loan test.csv"
   ]
  },
  {
   "cell_type": "code",
   "execution_count": 49,
   "metadata": {},
   "outputs": [],
   "source": [
    "test_loans = pd.read_csv('test.csv')\n",
    "X_test = test_loans[['term', 'interest_rate', 'grade', 'purpose', 'credit_score']]\n",
    "X_test_dum = pd.get_dummies(X_test)"
   ]
  },
  {
   "cell_type": "markdown",
   "metadata": {},
   "source": [
    "## adjust columns"
   ]
  },
  {
   "cell_type": "code",
   "execution_count": 51,
   "metadata": {},
   "outputs": [],
   "source": [
    "X_test_dum['grade_F3'] = 0\n",
    "X_test_dum['grade_F5'] = 0\n",
    "X_test_dum = X_test_dum.drop('purpose_moving', 1)"
   ]
  },
  {
   "cell_type": "code",
   "execution_count": 52,
   "metadata": {},
   "outputs": [],
   "source": [
    "lr2_pred= lr2.predict(X_test_dum)"
   ]
  },
  {
   "cell_type": "code",
   "execution_count": 53,
   "metadata": {},
   "outputs": [],
   "source": [
    "output_reg = pd.DataFrame({'id': test_loans.id,\n",
    "                       'Output': lr2_pred})\n",
    "output_reg.to_csv('submission_lr2.csv', index=False)"
   ]
  }
 ],
 "metadata": {
  "kernelspec": {
   "display_name": "Python 3",
   "language": "python",
   "name": "python3"
  },
  "language_info": {
   "codemirror_mode": {
    "name": "ipython",
    "version": 3
   },
   "file_extension": ".py",
   "mimetype": "text/x-python",
   "name": "python",
   "nbconvert_exporter": "python",
   "pygments_lexer": "ipython3",
   "version": "3.6.12"
  }
 },
 "nbformat": 4,
 "nbformat_minor": 4
}
